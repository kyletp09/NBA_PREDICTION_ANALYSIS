{
 "cells": [
  {
   "cell_type": "markdown",
   "id": "d7169a0e",
   "metadata": {},
   "source": [
    "# NBA PREDICTION OF NEXT SEASON"
   ]
  },
  {
   "cell_type": "markdown",
   "id": "b60ed50a",
   "metadata": {},
   "source": [
    "## Importing Libraries and APIs"
   ]
  },
  {
   "cell_type": "code",
   "execution_count": 3,
   "id": "75b5df39",
   "metadata": {},
   "outputs": [
    {
     "name": "stdout",
     "output_type": "stream",
     "text": [
      "Collecting pandas==2.2.3 (from -r requirements.txt (line 1))\n",
      "  Downloading pandas-2.2.3-cp312-cp312-win_amd64.whl.metadata (19 kB)\n",
      "Collecting numpy==2.2.2 (from -r requirements.txt (line 2))\n",
      "  Downloading numpy-2.2.2-cp312-cp312-win_amd64.whl.metadata (60 kB)\n",
      "Collecting nba_api==1.10.0 (from -r requirements.txt (line 3))\n",
      "  Using cached nba_api-1.10.0-py3-none-any.whl.metadata (5.8 kB)\n",
      "Requirement already satisfied: python-dateutil>=2.8.2 in c:\\users\\kyle\\desktop\\projects\\nba_prediction_analysis\\.venv\\lib\\site-packages (from pandas==2.2.3->-r requirements.txt (line 1)) (2.9.0.post0)\n",
      "Collecting pytz>=2020.1 (from pandas==2.2.3->-r requirements.txt (line 1))\n",
      "  Downloading pytz-2025.2-py2.py3-none-any.whl.metadata (22 kB)\n",
      "Collecting tzdata>=2022.7 (from pandas==2.2.3->-r requirements.txt (line 1))\n",
      "  Downloading tzdata-2025.2-py2.py3-none-any.whl.metadata (1.4 kB)\n",
      "Collecting requests<3.0.0,>=2.32.3 (from nba_api==1.10.0->-r requirements.txt (line 3))\n",
      "  Downloading requests-2.32.4-py3-none-any.whl.metadata (4.9 kB)\n",
      "Collecting charset_normalizer<4,>=2 (from requests<3.0.0,>=2.32.3->nba_api==1.10.0->-r requirements.txt (line 3))\n",
      "  Downloading charset_normalizer-3.4.2-cp312-cp312-win_amd64.whl.metadata (36 kB)\n",
      "Collecting idna<4,>=2.5 (from requests<3.0.0,>=2.32.3->nba_api==1.10.0->-r requirements.txt (line 3))\n",
      "  Downloading idna-3.10-py3-none-any.whl.metadata (10 kB)\n",
      "Collecting urllib3<3,>=1.21.1 (from requests<3.0.0,>=2.32.3->nba_api==1.10.0->-r requirements.txt (line 3))\n",
      "  Downloading urllib3-2.5.0-py3-none-any.whl.metadata (6.5 kB)\n",
      "Collecting certifi>=2017.4.17 (from requests<3.0.0,>=2.32.3->nba_api==1.10.0->-r requirements.txt (line 3))\n",
      "  Downloading certifi-2025.8.3-py3-none-any.whl.metadata (2.4 kB)\n",
      "Requirement already satisfied: six>=1.5 in c:\\users\\kyle\\desktop\\projects\\nba_prediction_analysis\\.venv\\lib\\site-packages (from python-dateutil>=2.8.2->pandas==2.2.3->-r requirements.txt (line 1)) (1.17.0)\n",
      "Downloading pandas-2.2.3-cp312-cp312-win_amd64.whl (11.5 MB)\n",
      "   ---------------------------------------- 0.0/11.5 MB ? eta -:--:--\n",
      "   ----- ---------------------------------- 1.6/11.5 MB 9.4 MB/s eta 0:00:02\n",
      "   ------------- -------------------------- 3.9/11.5 MB 10.7 MB/s eta 0:00:01\n",
      "   --------------------------- ------------ 7.9/11.5 MB 13.5 MB/s eta 0:00:01\n",
      "   ---------------------------------------  11.3/11.5 MB 16.0 MB/s eta 0:00:01\n",
      "   ---------------------------------------- 11.5/11.5 MB 13.8 MB/s  0:00:00\n",
      "Downloading numpy-2.2.2-cp312-cp312-win_amd64.whl (12.6 MB)\n",
      "   ---------------------------------------- 0.0/12.6 MB ? eta -:--:--\n",
      "   ----------------- ---------------------- 5.5/12.6 MB 28.0 MB/s eta 0:00:01\n",
      "   ---------------------------------------  12.6/12.6 MB 31.6 MB/s eta 0:00:01\n",
      "   ---------------------------------------- 12.6/12.6 MB 26.4 MB/s  0:00:00\n",
      "Using cached nba_api-1.10.0-py3-none-any.whl (285 kB)\n",
      "Downloading requests-2.32.4-py3-none-any.whl (64 kB)\n",
      "Downloading charset_normalizer-3.4.2-cp312-cp312-win_amd64.whl (105 kB)\n",
      "Downloading idna-3.10-py3-none-any.whl (70 kB)\n",
      "Downloading urllib3-2.5.0-py3-none-any.whl (129 kB)\n",
      "Downloading certifi-2025.8.3-py3-none-any.whl (161 kB)\n",
      "Downloading pytz-2025.2-py2.py3-none-any.whl (509 kB)\n",
      "Downloading tzdata-2025.2-py2.py3-none-any.whl (347 kB)\n",
      "Installing collected packages: pytz, urllib3, tzdata, numpy, idna, charset_normalizer, certifi, requests, pandas, nba_api\n",
      "\n",
      "   ----------------------------------------  0/10 [pytz]\n",
      "   ---- -----------------------------------  1/10 [urllib3]\n",
      "   -------- -------------------------------  2/10 [tzdata]\n",
      "   -------- -------------------------------  2/10 [tzdata]\n",
      "   ------------ ---------------------------  3/10 [numpy]\n",
      "   ------------ ---------------------------  3/10 [numpy]\n",
      "   ------------ ---------------------------  3/10 [numpy]\n",
      "   ------------ ---------------------------  3/10 [numpy]\n",
      "   ------------ ---------------------------  3/10 [numpy]\n",
      "   ------------ ---------------------------  3/10 [numpy]\n",
      "   ------------ ---------------------------  3/10 [numpy]\n",
      "   ------------ ---------------------------  3/10 [numpy]\n",
      "   ------------ ---------------------------  3/10 [numpy]\n",
      "   ------------ ---------------------------  3/10 [numpy]\n",
      "   ------------ ---------------------------  3/10 [numpy]\n",
      "   ------------ ---------------------------  3/10 [numpy]\n",
      "   ------------ ---------------------------  3/10 [numpy]\n",
      "   ------------ ---------------------------  3/10 [numpy]\n",
      "   ------------ ---------------------------  3/10 [numpy]\n",
      "   -------------------- -------------------  5/10 [charset_normalizer]\n",
      "   -------------------------------- -------  8/10 [pandas]\n",
      "   -------------------------------- -------  8/10 [pandas]\n",
      "   -------------------------------- -------  8/10 [pandas]\n",
      "   -------------------------------- -------  8/10 [pandas]\n",
      "   -------------------------------- -------  8/10 [pandas]\n",
      "   -------------------------------- -------  8/10 [pandas]\n",
      "   -------------------------------- -------  8/10 [pandas]\n",
      "   -------------------------------- -------  8/10 [pandas]\n",
      "   -------------------------------- -------  8/10 [pandas]\n",
      "   -------------------------------- -------  8/10 [pandas]\n",
      "   -------------------------------- -------  8/10 [pandas]\n",
      "   -------------------------------- -------  8/10 [pandas]\n",
      "   -------------------------------- -------  8/10 [pandas]\n",
      "   -------------------------------- -------  8/10 [pandas]\n",
      "   -------------------------------- -------  8/10 [pandas]\n",
      "   -------------------------------- -------  8/10 [pandas]\n",
      "   -------------------------------- -------  8/10 [pandas]\n",
      "   -------------------------------- -------  8/10 [pandas]\n",
      "   -------------------------------- -------  8/10 [pandas]\n",
      "   -------------------------------- -------  8/10 [pandas]\n",
      "   -------------------------------- -------  8/10 [pandas]\n",
      "   -------------------------------- -------  8/10 [pandas]\n",
      "   -------------------------------- -------  8/10 [pandas]\n",
      "   -------------------------------- -------  8/10 [pandas]\n",
      "   -------------------------------- -------  8/10 [pandas]\n",
      "   -------------------------------- -------  8/10 [pandas]\n",
      "   -------------------------------- -------  8/10 [pandas]\n",
      "   -------------------------------- -------  8/10 [pandas]\n",
      "   -------------------------------- -------  8/10 [pandas]\n",
      "   -------------------------------- -------  8/10 [pandas]\n",
      "   -------------------------------- -------  8/10 [pandas]\n",
      "   -------------------------------- -------  8/10 [pandas]\n",
      "   -------------------------------- -------  8/10 [pandas]\n",
      "   -------------------------------- -------  8/10 [pandas]\n",
      "   -------------------------------- -------  8/10 [pandas]\n",
      "   -------------------------------- -------  8/10 [pandas]\n",
      "   ------------------------------------ ---  9/10 [nba_api]\n",
      "   ------------------------------------ ---  9/10 [nba_api]\n",
      "   ------------------------------------ ---  9/10 [nba_api]\n",
      "   ------------------------------------ ---  9/10 [nba_api]\n",
      "   ---------------------------------------- 10/10 [nba_api]\n",
      "\n",
      "Successfully installed certifi-2025.8.3 charset_normalizer-3.4.2 idna-3.10 nba_api-1.10.0 numpy-2.2.2 pandas-2.2.3 pytz-2025.2 requests-2.32.4 tzdata-2025.2 urllib3-2.5.0\n"
     ]
    }
   ],
   "source": [
    "!pip install -r requirements.txt"
   ]
  },
  {
   "cell_type": "code",
   "execution_count": 19,
   "id": "16f5e739",
   "metadata": {},
   "outputs": [],
   "source": [
    "import pandas as pd\n",
    "import numpy as np\n",
    "from nba_api.stats.endpoints import assistleaders"
   ]
  },
  {
   "cell_type": "markdown",
   "id": "51e3d7f6",
   "metadata": {},
   "source": [
    "## Importing Data"
   ]
  },
  {
   "cell_type": "code",
   "execution_count": null,
   "id": "70828ae7",
   "metadata": {},
   "outputs": [
    {
     "data": {
      "text/html": [
       "<div>\n",
       "<style scoped>\n",
       "    .dataframe tbody tr th:only-of-type {\n",
       "        vertical-align: middle;\n",
       "    }\n",
       "\n",
       "    .dataframe tbody tr th {\n",
       "        vertical-align: top;\n",
       "    }\n",
       "\n",
       "    .dataframe thead th {\n",
       "        text-align: right;\n",
       "    }\n",
       "</style>\n",
       "<table border=\"1\" class=\"dataframe\">\n",
       "  <thead>\n",
       "    <tr style=\"text-align: right;\">\n",
       "      <th></th>\n",
       "      <th>RANK</th>\n",
       "      <th>PLAYER_ID</th>\n",
       "      <th>PLAYER</th>\n",
       "      <th>TEAM_ID</th>\n",
       "      <th>TEAM_ABBREVIATION</th>\n",
       "      <th>TEAM_NAME</th>\n",
       "      <th>JERSEY_NUM</th>\n",
       "      <th>PLAYER_POSITION</th>\n",
       "      <th>AST</th>\n",
       "    </tr>\n",
       "  </thead>\n",
       "  <tbody>\n",
       "  </tbody>\n",
       "</table>\n",
       "</div>"
      ],
      "text/plain": [
       "Empty DataFrame\n",
       "Columns: [RANK, PLAYER_ID, PLAYER, TEAM_ID, TEAM_ABBREVIATION, TEAM_NAME, JERSEY_NUM, PLAYER_POSITION, AST]\n",
       "Index: []"
      ]
     },
     "execution_count": 31,
     "metadata": {},
     "output_type": "execute_result"
    }
   ],
   "source": [
    "# Assists\n",
    "\n",
    "assist = assistleaders.AssistLeaders(league_id='00', per_mode_simple='Totals', player_or_team='Player', season='ALLTIME', season_type_playoffs='Regular Season')\n",
    "\n",
    "assist = assist.get_data_frames()[0]\n"
   ]
  }
 ],
 "metadata": {
  "kernelspec": {
   "display_name": ".venv",
   "language": "python",
   "name": "python3"
  },
  "language_info": {
   "codemirror_mode": {
    "name": "ipython",
    "version": 3
   },
   "file_extension": ".py",
   "mimetype": "text/x-python",
   "name": "python",
   "nbconvert_exporter": "python",
   "pygments_lexer": "ipython3",
   "version": "3.12.1"
  }
 },
 "nbformat": 4,
 "nbformat_minor": 5
}
